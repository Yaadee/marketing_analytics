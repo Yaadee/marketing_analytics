{
 "cells": [
  {
   "cell_type": "code",
   "execution_count": 1,
   "metadata": {},
   "outputs": [
    {
     "name": "stdout",
     "output_type": "stream",
     "text": [
      "An error occurred: <HttpError 401 when requesting https://androidpublisher.googleapis.com/androidpublisher/v3/applications/com.boa.boaMobileBanking/edits/latest?key=your_api_key_here&alt=json returned \"API keys are not supported by this API. Expected OAuth2 access token or other authentication credentials that assert a principal. See https://cloud.google.com/docs/authentication\". Details: \"[{'@type': 'type.googleapis.com/google.rpc.ErrorInfo', 'reason': 'CREDENTIALS_MISSING', 'domain': 'googleapis.com', 'metadata': {'method': 'google.play.publishingapi.v3.EditsService.Get', 'service': 'androidpublisher.googleapis.com'}}]\">\n",
      "Failed to fetch installation data.\n"
     ]
    }
   ],
   "source": [
    "import os\n",
    "import pandas as pd\n",
    "from googleapiclient.discovery import build\n",
    "\n",
    "# Google Play Developer API key\n",
    "API_KEY = 'your_api_key_here'  # Replace with your API key\n",
    "\n",
    "def authenticate():\n",
    "    # Authenticate using API key\n",
    "    service = build('androidpublisher', 'v3', developerKey=API_KEY)\n",
    "    return service\n",
    "\n",
    "def fetch_installations(service, package_name):\n",
    "    try:\n",
    "        # Fetch app details\n",
    "        details = service.edits().get(packageName=package_name, editId='latest').execute()\n",
    "\n",
    "        # Extract relevant installation metrics\n",
    "        installations = details['details']['appDetails']['installs']\n",
    "        \n",
    "        return installations\n",
    "    except Exception as e:\n",
    "        print(f\"An error occurred: {e}\")\n",
    "        return None\n",
    "\n",
    "def save_installations_to_csv(data, file_path):\n",
    "    df = pd.DataFrame(data)\n",
    "    df.to_csv(file_path, index=False)\n",
    "    print(f\"Successfully saved data to CSV file: {file_path}\")\n",
    "\n",
    "if __name__ == '__main__':\n",
    "    # Authenticate with Google Play Developer API\n",
    "    service = authenticate()\n",
    "\n",
    "    # Package name (app ID) of the app you want to fetch installation data for\n",
    "    package_name = 'com.boa.boaMobileBanking'\n",
    "\n",
    "    # Fetch app installations\n",
    "    installations = fetch_installations(service, package_name)\n",
    "\n",
    "    if installations is not None:\n",
    "        print(f\"Total installations: {installations}\")\n",
    "\n",
    "        # Prepare data for CSV\n",
    "        data = [{'package_name': package_name, 'total_installations': installations}]\n",
    "\n",
    "        # Save data to CSV\n",
    "        file_path = 'playstore_installations_data.csv'\n",
    "        save_installations_to_csv(data, file_path)\n",
    "    else:\n",
    "        print(\"Failed to fetch installation data.\")\n"
   ]
  }
 ],
 "metadata": {
  "kernelspec": {
   "display_name": "venv",
   "language": "python",
   "name": "python3"
  },
  "language_info": {
   "codemirror_mode": {
    "name": "ipython",
    "version": 3
   },
   "file_extension": ".py",
   "mimetype": "text/x-python",
   "name": "python",
   "nbconvert_exporter": "python",
   "pygments_lexer": "ipython3",
   "version": "3.10.12"
  }
 },
 "nbformat": 4,
 "nbformat_minor": 2
}
